{
  "cells": [
    {
      "cell_type": "markdown",
      "metadata": {
        "id": "HXyhjwGOO_sc"
      },
      "source": [
        "# First step into Python by ORSC\n",
        "This is a Google Colaboratory, or 'Colab' for short, it is a product from Google Research. Colab allows anybody to write and execute arbitrary Python code through the browser, and is especially well suited to machine learning, data analysis and education. More technically, Colab is a hosted Jupyter notebook service that requires no setup to use, while providing access free of charge to computing resources including GPUs.\n",
        "\n",
        "In this notebook you'll learn some basics to get you started on coding with Python, it covers the following:\n",
        "* Variables and Data structures\n",
        "* Loops & If Else statements\n",
        "* Functions\n",
        "* Object Oriented Programming\n",
        "\n",
        "This notebook is created by:\n",
        "* Essaid Zerbout\n",
        "* Abdelmalik Benfadhil\n",
        "Link to slides presentation:\n",
        "https://docs.google.com/presentation/d/1X7YhJ3nIF8IlAv2XZnMf5dkszsI7p7xdYFYnVjVwEOY/edit?usp=sharing"
      ]
    },
    {
      "cell_type": "code",
      "execution_count": null,
      "metadata": {
        "id": "AJgCvEY-O6R2"
      },
      "outputs": [],
      "source": [
        "print(\"Let's get started!\")"
      ]
    },
    {
      "cell_type": "markdown",
      "metadata": {
        "id": "TPdrdsK9lw-Q"
      },
      "source": [
        "# 1. Variables and Data structures\n",
        "Variables in Python are containers for storing data values.\n",
        "Python has no command for declaring a variable.\n",
        "A variable is created the moment you first assign a value to it.\n"
      ]
    },
    {
      "cell_type": "code",
      "execution_count": null,
      "metadata": {
        "id": "vqCNOJAdltHY"
      },
      "outputs": [],
      "source": [
        "# x is of type int\n",
        "x = 1\n",
        "# y is of type str\n",
        "y = \"hi how are you\"\n",
        "# z is of type bool\n",
        "z = False\n",
        "\n",
        "# # show result \n",
        "print(x)\n",
        "print(type(x))\n",
        "print(y)\n",
        "print(type(y))\n",
        "print(z)\n",
        "print(type(z))"
      ]
    },
    {
      "cell_type": "markdown",
      "metadata": {
        "id": "qb0y0hFhm7EL"
      },
      "source": [
        "A variable can have a short name (like x and y) or a more descriptive name (age, carname, total_volume). \n",
        "Rules for Python variables:\n",
        "* A variable name must start with a letter or the underscore character\n",
        "* A variable name cannot start with a number\n",
        "* A variable name can only contain alpha-numeric characters and underscores (A-z, 0-9, and _ )\n",
        "* Variable names are case-sensitive (age, Age and AGE are three different variables)\n",
        "* A variable name cannot be any of the Python keywords."
      ]
    },
    {
      "cell_type": "code",
      "execution_count": null,
      "metadata": {
        "id": "XY3UHHP1nWam"
      },
      "outputs": [],
      "source": [
        "# acceptable ways of writing variables are \n",
        "myvar = \"Abdellah\"\n",
        "my_var = \"Abdellah\"\n",
        "_my_var = \"Abdellah\"\n",
        "# for strings you can also use ' ' instead of \" \"\n",
        "myVar = 'Abdellah'\n",
        "MYVAR = 'Abdellah'\n",
        "myvar2 = 'Abdellah'\n",
        "# Python variables are also case sensitive\n",
        "a = 15\n",
        "A = \"fifteen\"\n",
        "# the value for A won't replace the value for a\n",
        "print(type(a), a)\n",
        "print(type(A),A)"
      ]
    },
    {
      "cell_type": "markdown",
      "metadata": {
        "id": "iMdxA2kQvsHF"
      },
      "source": [
        "Some manipulations of Variables"
      ]
    },
    {
      "cell_type": "code",
      "execution_count": null,
      "metadata": {
        "id": "Oab1ReeMvzfE"
      },
      "outputs": [],
      "source": [
        "# casting variables\n",
        "# int() function returns an integer\n",
        "integer_1 = int(1.0) # float to int\n",
        "integer_2 = int(\"3\") # str to int\n",
        "print(type(integer_1),integer_1)\n",
        "print(type(integer_2),integer_2)\n",
        "\n",
        "\n",
        "# float() function returns an integer\n",
        "real_1 = float(15)     # int to float\n",
        "real_2 = float(\"25.5\")  # str to float\n",
        "print(type(real_1),real_1) \n",
        "print(type(real_2),real_2) \n",
        "\n",
        "\n",
        "\n",
        "# str() function returns a string\n",
        "string_1 = str(2.3) # float to str\n",
        "string_2 = str(True) # bool to str\n",
        "print(type(string_1),string_1 )\n",
        "print(type(string_2), string_2)"
      ]
    },
    {
      "cell_type": "code",
      "execution_count": null,
      "metadata": {
        "id": "evTq1qOHv80v"
      },
      "outputs": [],
      "source": [
        "# operators\n",
        "# addition and substraction\n",
        "x = 5\n",
        "y = 15\n",
        "add = x + y\n",
        "sub = x - y\n",
        "print(add, sub)\n",
        "\n",
        "\n",
        "# multiplication and exponentiation \n",
        "mult = x * y \n",
        "expo = x ** y\n",
        "print(mult, expo)\n",
        "\n",
        "\n",
        "# modulus and division \n",
        "mod = x%y\n",
        "div = x / y # or // for integer division \n",
        "print(mod, div)\n"
      ]
    },
    {
      "cell_type": "code",
      "execution_count": null,
      "metadata": {
        "id": "qQ9CD8BfwAwq"
      },
      "outputs": [],
      "source": [
        "# strings\n",
        "# concatenation\n",
        "a = \"HI\"\n",
        "b = \"how are you\"\n",
        "s = a + \" \" + b\n",
        "# print(s)\n",
        "# access and slice\n",
        "print(s[2:5])\n",
        "# # string methods\n",
        "#lower upper\n",
        "print(s.lower())\n"
      ]
    },
    {
      "cell_type": "markdown",
      "metadata": {
        "id": "SNiaNhqdZQ4_"
      },
      "source": [
        "# Data structures\n",
        "\n",
        "Lists are one of 4 built-in data types in Python used to store collections of data, the other 3 are Tuple, Set, and Dictionary, all with different qualities and usage.\n",
        "* lists are you used to store an indexed list of items\n"
      ]
    },
    {
      "cell_type": "code",
      "execution_count": null,
      "metadata": {
        "id": "TarPJzLAahbC"
      },
      "outputs": [],
      "source": [
        "# here is an exemple of a list\n",
        "L = ['Abdellah',5,'Wiam',3.5,'ORSC','IT','Malik',True]\n",
        "# The index starts from 0 on left and from -1 on right \n",
        "print(L[0])\n",
        "print(L[-1])\n",
        "# We can add an item at the end of a list using append\n",
        "L.append('Fazila')\n",
        "print(L)\n",
        "# We can also insert a new element in any postion\n",
        "L.insert(1,'Essaid') \n",
        "print(L)\n",
        "# We can return the lenght of a list\n",
        "print(len(L))\n",
        "# here is a list of numbers\n",
        "values = [15,5,3,2,1.2,0.5]\n",
        "# We can return the minimum/maximum value in a list\n",
        "print('min value :',min(values))\n",
        "print('max value :',max(values))\n",
        "# We can change the value of a specified item in the list\n",
        "values[0] = 0\n",
        "values"
      ]
    },
    {
      "cell_type": "markdown",
      "metadata": {
        "id": "CESpCEE1e-I1"
      },
      "source": [
        "* tuples are immutable list which means you can't (change/add/remove) "
      ]
    },
    {
      "cell_type": "code",
      "execution_count": null,
      "metadata": {
        "id": "PQvWEG6slFgJ"
      },
      "outputs": [],
      "source": [
        "T = ('ORSC','IT','RH','COMM')\n",
        "# we can return the number of items in a tuple\n",
        "print(len(T))\n",
        "# we can also return a specified item via his index\n",
        "print(T[0])\n",
        "# we can also create a tuple using the fonction tuple\n",
        "newtuple = tuple(\"ORSC\")\n",
        "print(newtuple)"
      ]
    },
    {
      "cell_type": "markdown",
      "metadata": {
        "id": "pCsQwOUXlzxI"
      },
      "source": [
        "* a dictonary is unordered, indexed, changeable"
      ]
    },
    {
      "cell_type": "code",
      "execution_count": null,
      "metadata": {
        "id": "jiLWFJxBmDJc"
      },
      "outputs": [],
      "source": [
        "D = {'Keys':'Values'}\n",
        "# print(D)\n",
        "# We can also use lists in a dictionary\n",
        "Names = ['Abdellah','Malik','Wiam','Fazila']\n",
        "Roles = ['President','VP','SG','SGA']\n",
        "ORSC = {'Names':Names,'Roles':Roles}\n",
        "print(ORSC)\n",
        "# we can add a new key+value\n",
        "ORSC['Structure'] = 'Bureau' \n",
        "print(ORSC)\n",
        "\n",
        "# return dictonary keys\n",
        "print(ORSC.keys())\n",
        "\n",
        "# return dictonary values\n",
        "print(ORSC.values())\n",
        "\n",
        "# return dictonary items\n",
        "print(ORSC.items())"
      ]
    },
    {
      "cell_type": "markdown",
      "metadata": {
        "id": "ykJclxa4n3QG"
      },
      "source": [
        "* Sets are used to store multiple items in a single variable. sets are unchangable, unordered, unmutable"
      ]
    },
    {
      "cell_type": "code",
      "execution_count": null,
      "metadata": {
        "id": "BPdcvBIFoC5o"
      },
      "outputs": [],
      "source": [
        "#duplicates are not allowed\n",
        "S = {'Apple','Apple','Apple','Watermelon','Strawberry'}\n",
        "print(S)\n",
        "\n",
        "# True and 1 are considered the same\n",
        "thisset = {\"apple\", \"banana\", \"cherry\", True, 1, 2}\n",
        "print(thisset)"
      ]
    },
    {
      "cell_type": "markdown",
      "metadata": {
        "id": "lsXdPgUawVkz"
      },
      "source": [
        "# 2. Loops & If Else statement\n",
        "In a Python program, the if statement is how you perform this sort of decision-making. It allows for *conditional* execution (as opposed to a sequential one) of a statement or group of statements based on the value of an expression (the condition).\n",
        "\n"
      ]
    },
    {
      "cell_type": "code",
      "execution_count": null,
      "metadata": {
        "id": "7p2unnKXyJ7t"
      },
      "outputs": [],
      "source": [
        "# if else elif\n",
        "c = 5\n",
        "d = 6\n",
        "if c > d:\n",
        "  print(\"c is greater than d\")\n",
        "elif c < d:\n",
        "  print(\"c is less than d\")\n",
        "else:\n",
        "  print(\"c and d are equal\")\n",
        "\n",
        "# Nested if statements\n",
        "\n",
        "s = \"abolish\"\n",
        "if s[0] == 'a':\n",
        "  if s[1] == 'b':\n",
        "    print(\" s starts with a and b\")\n",
        "  else:\n",
        "    print(\"s starts with a\") \n",
        "else:\n",
        "  print(\"s starts without a\")"
      ]
    },
    {
      "cell_type": "markdown",
      "metadata": {
        "id": "T87QMSSw0Fyn"
      },
      "source": [
        "# Loops\n",
        "a loop is a sequence of instructions that is continually repeated until a certain condition is reached.\n",
        "Python has two primitive loop commands:\n",
        "* while loops: can execute a set of statements as long as a condition is true.\n",
        "* for loops: used for iterating over a sequence (that is either a list, a tuple, a dictionary, a set, or a string)."
      ]
    },
    {
      "cell_type": "code",
      "execution_count": null,
      "metadata": {
        "id": "TvbNXyKf41lw"
      },
      "outputs": [],
      "source": [
        "# while loop\n",
        "i = 1\n",
        "while i < 6:\n",
        "  print(i)\n",
        "  i += 1\n",
        "\n",
        "# for loop\n",
        "fruits = [\"apple\", \"banana\", \"cherry\",\"pineapple\"]\n",
        "for x in fruits:\n",
        "  print(x)\n",
        "\n",
        "l = [\"Operations\",\"Research\",\"Society\",'Club']\n",
        "n = len(l)\n",
        "for i in range(n):\n",
        "  print(i, l[i])\n",
        "  "
      ]
    },
    {
      "cell_type": "markdown",
      "metadata": {
        "id": "0GZ1fPzx46vu"
      },
      "source": [
        "## 3. Functions\n",
        "A function is a block of code which only runs when it is called.\n",
        "You can pass data, known as parameters, into a function.\n",
        "A function can return data as a result."
      ]
    },
    {
      "cell_type": "code",
      "execution_count": null,
      "metadata": {
        "id": "v0Sw7VFD489_"
      },
      "outputs": [],
      "source": [
        "# creating a function\n",
        "def myfunction():\n",
        "  print(\"first function\")\n",
        "  \n",
        "#calling a function\n",
        "myfunction()"
      ]
    },
    {
      "cell_type": "code",
      "execution_count": null,
      "metadata": {
        "id": "VTGXKmfF5HXp"
      },
      "outputs": [],
      "source": [
        "# function with an argument\n",
        "def checkon(person):\n",
        "  print(\"are you okay \",person,\"?\")\n",
        "\n",
        "checkon(\"Essaid\")"
      ]
    },
    {
      "cell_type": "code",
      "execution_count": null,
      "metadata": {
        "id": "HwRKoxXe5Jgo"
      },
      "outputs": [],
      "source": [
        "# function that returns something\n",
        "def add(number,other_number):\n",
        "  return number + other_number\n",
        "\n",
        "res = add(5,2)\n",
        "print(res)"
      ]
    },
    {
      "cell_type": "markdown",
      "metadata": {
        "id": "I8A3D6mFJzVN"
      },
      "source": [
        "## 3. Object-Oriented Programming (OOP)\n",
        "Object-oriented programming (OOP) is a method of structuring a program by bundling related properties and behaviors into individual objects. \n"
      ]
    },
    {
      "cell_type": "markdown",
      "metadata": {
        "id": "bwN9ldsCLTG0"
      },
      "source": [
        "3.1. __Classes__ are used to create user-defined data structures. Classes define functions called methods, which identify the behaviors and actions that an object created from the class can perform with its data. \\\\\n",
        "__init__() so that new attributes can be defined on the object.\n",
        "__init__() are called instance attributes. An instance attribute’s value is specific to a particular instance of the class. \\\\\n",
        "On the other hand, class attributes are attributes that have the same value for all class instances. You can define a class attribute by assigning a value to a variable name outside of __init__()\n"
      ]
    },
    {
      "cell_type": "code",
      "execution_count": 127,
      "metadata": {
        "id": "uHtRnfl0KyLA"
      },
      "outputs": [],
      "source": [
        "class Member:\n",
        "    # class attribute\n",
        "    club = \"ORSC\"\n",
        "    # Instance attributes\n",
        "    def __init__(self, name, role, structure):\n",
        "        self.name = name\n",
        "        self.role = role\n",
        "        self.structure = structure\n"
      ]
    },
    {
      "cell_type": "code",
      "execution_count": 128,
      "metadata": {
        "id": "JrX98XtMLuWp"
      },
      "outputs": [],
      "source": [
        "Abdellah = Member(\"Abdellah\",\"President\",\"bureau\")"
      ]
    },
    {
      "cell_type": "code",
      "execution_count": null,
      "metadata": {
        "id": "RuDkhn8KL7Oi"
      },
      "outputs": [],
      "source": [
        "print(\" Name :\",Abdellah.name,\" Role :\",Abdellah.role,\" Club :\",Abdellah.club)"
      ]
    },
    {
      "cell_type": "code",
      "execution_count": null,
      "metadata": {
        "id": "vzs2e8PMPDUR"
      },
      "outputs": [],
      "source": [
        "# we can change class attributes\n",
        "Abdellah.club = \"operations research society club\"\n",
        "Abdellah.club"
      ]
    },
    {
      "cell_type": "markdown",
      "metadata": {
        "id": "KAMEZFhzSa1P"
      },
      "source": [
        "3.2 __Instance methods__ are functions that are defined inside a class and can only be called from an instance of that class. Just like .__init__(), an instance method’s first parameter is always self."
      ]
    },
    {
      "cell_type": "code",
      "execution_count": 140,
      "metadata": {
        "id": "Y2LFhAqtRpNn"
      },
      "outputs": [],
      "source": [
        "class Member:\n",
        "  #class attribute\n",
        "  club = \"ORSC\"\n",
        "  uni = \"USTHB\"\n",
        "  #Instance attributes\n",
        "  def __init__(self, name, role, structure):\n",
        "      self.name = name\n",
        "      self.role = role\n",
        "      self.structure = structure   \n",
        "  # Instance method\n",
        "  def description(self):\n",
        "      return f\"{self.name} is the {self.role} of orsc\"\n",
        "  def university(self):\n",
        "    return self.uni\n"
      ]
    },
    {
      "cell_type": "code",
      "execution_count": null,
      "metadata": {
        "id": "CjiLHHPg0S6o"
      },
      "outputs": [],
      "source": [
        "Malik = Member(\"Malik\",\"Vp\",\"bureau\")\n",
        "print(Malik.description())\n",
        "print(Malik.university())"
      ]
    }
  ],
  "metadata": {
    "colab": {
      "provenance": []
    },
    "kernelspec": {
      "display_name": "Python 3",
      "name": "python3"
    },
    "language_info": {
      "name": "python"
    }
  },
  "nbformat": 4,
  "nbformat_minor": 0
}
