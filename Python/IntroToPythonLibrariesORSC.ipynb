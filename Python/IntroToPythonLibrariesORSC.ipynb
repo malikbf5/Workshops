{
  "nbformat": 4,
  "nbformat_minor": 0,
  "metadata": {
    "colab": {
      "provenance": []
    },
    "kernelspec": {
      "name": "python3",
      "display_name": "Python 3"
    },
    "language_info": {
      "name": "python"
    }
  },
  "cells": [
    {
      "cell_type": "markdown",
      "source": [
        "# Introduction to Python Libraries by ORSC\n",
        "In this notebook, we'll discover some of the most popular Python libraries, they are the following:\n",
        "* Numpy\n",
        "* Pandas\n",
        "* Matplotlib\n",
        "\n",
        "This notebook is created by:\n",
        "* Essaid Zerbout\n",
        "* Abdelmalik Benfadhil\n",
        "\n",
        "Link to the slides presentation: https://docs.google.com/presentation/d/1O1WigBg7qUBD2QSxl4XUj4gauytgAdzW7VY5RBaCUmE/edit?usp=sharing"
      ],
      "metadata": {
        "id": "kbkOrE4569Ha"
      }
    },
    {
      "cell_type": "markdown",
      "source": [
        "# 1. Numpy\n",
        "NumPy (Numerical Python) is the fundamental package for scientific computing in Python. It provides a multidimensional array object, it allows for fast operations on arrays, including mathematical, logical, shape manipulation, sorting, selecting, I/O, discrete Fourier transforms, basic linear algebra, basic statistical operations, random simulation and much more."
      ],
      "metadata": {
        "id": "okzuzRmK7hoM"
      }
    },
    {
      "cell_type": "code",
      "execution_count": null,
      "metadata": {
        "id": "iIcwyDRU2gmf"
      },
      "outputs": [],
      "source": [
        "# importing numpy\n",
        "import numpy as np\n",
        "\n",
        "# range\n",
        "firstnp = np.arange(7)\n",
        "print(firstnp)\n"
      ]
    },
    {
      "cell_type": "markdown",
      "source": [
        "### 1.1 Numpy arrays\n",
        "In Python we have lists that serve the purpose of arrays, but they are slow to process.\n",
        "\n",
        "NumPy provides an array object that is up to 50x faster than traditional Python lists.\n",
        "\n",
        "The array object in NumPy is called ndarray, it provides a lot of supporting functions that make working with ndarray very easy.\n",
        "\n",
        "Arrays are very frequently used in data science, where speed and resources are very important."
      ],
      "metadata": {
        "id": "4HzJ1d6NJJ40"
      }
    },
    {
      "cell_type": "code",
      "source": [
        "# ndarray type\n",
        "print(type(firstnp))"
      ],
      "metadata": {
        "id": "OOKKTOAtI76Q"
      },
      "execution_count": null,
      "outputs": []
    },
    {
      "cell_type": "code",
      "source": [
        "# create ndarray from tuple or list\n",
        "arr = np.array((1,2))\n",
        "arr2 = np.array([1,2])\n",
        "print(arr == arr2)"
      ],
      "metadata": {
        "id": "1mZIgn1uJtNn"
      },
      "execution_count": null,
      "outputs": []
    },
    {
      "cell_type": "code",
      "source": [
        "# 0 dimension array\n",
        "a = np.array(42)\n",
        "print(a, \"\\narray of dimension\",a.ndim)\n",
        "print(\"and of shape: \",a.shape)\n",
        "\n",
        "print(\"\\n\")\n",
        "# 1 dimension array\n",
        "b = np.array([16,23])\n",
        "print(b, \"\\narray of dimension\",b.ndim)\n",
        "print(\"and of shape: \",b.shape)\n",
        "\n",
        "print(\"\\n\")\n",
        "# 2 dimension array\n",
        "c = np.array([[1,2,3],[4,5,6]])\n",
        "print(c, \"\\narray of dimension\",c.ndim)\n",
        "print(\"and of shape: \",c.shape)"
      ],
      "metadata": {
        "id": "T5qQg4bvL3hz"
      },
      "execution_count": null,
      "outputs": []
    },
    {
      "cell_type": "code",
      "source": [
        "# indexing\n",
        "print(b[0]) # 0 for first element, -1 for the last\n",
        "print(c[0,2]) # element of row i and column j is accessed with [i,j]\n",
        "\n",
        "print(\"\\n\")\n",
        "#slicing\n",
        "print(b[:]) # [begining:end]\n",
        "print(c[:,1:5]) # [beginning:end,beginning:end]\n",
        "\n",
        "print(\"\\n\")\n",
        "# with step\n",
        "d = np.array([1, 2, 3, 4, 5, 6, 7])\n",
        "print(d[1::2]) # [beginning:end:step]"
      ],
      "metadata": {
        "id": "Ppd0ZESPMjYC"
      },
      "execution_count": null,
      "outputs": []
    },
    {
      "cell_type": "code",
      "source": [
        "# matrix operations\n",
        "\n",
        "# transpose of matrix\n",
        "m = np.array([[1,2],[3,4]])\n",
        "mx = m.T\n",
        "print(m)\n",
        "print(\"\\n\")\n",
        "print(\" transpose of the matrix: \")\n",
        "print(mx)\n",
        "\n",
        "# add, subtract multiply, divide\n",
        "print(\"\\n matrix summation : \\n\",np.add(m,mx))\n",
        "print(\"\\n matrix subtraction: \\n\",np.subtract(m,mx))\n",
        "print(\"\\n matrix multiplication: \\n\",np.multiply(m,mx))\n",
        "print(\"\\n matrix division: \\n\",np.divide(m,mx))\n",
        "\n",
        "# dot product\n",
        "print(\"\\n matrix dot product: \\n\",m@mx) # or np.dot()\n",
        "\n",
        "# cross product\n",
        "print(\"\\n matrix cross product: \\n\",np.cross(m,mx))\n",
        "\n"
      ],
      "metadata": {
        "id": "Xhzqt56SNHS3"
      },
      "execution_count": null,
      "outputs": []
    },
    {
      "cell_type": "markdown",
      "source": [
        "### 1.2 Random simulation\n",
        "using numpy you can generate \"random\" values and distributions\n",
        "It is important that the values generated aren't truly random, because they're a result of some algorithm, we call these values \"pseudo-random\""
      ],
      "metadata": {
        "id": "KVVnvbIXS5SP"
      }
    },
    {
      "cell_type": "code",
      "source": [
        "# import random module\n",
        "from numpy import random\n",
        "\n",
        "# random integer\n",
        "x = random.randint(10)\n",
        "print(x)\n",
        "\n",
        "print(\"\\n\")\n",
        "\n",
        "# random float 0 - 1\n",
        "y = random.rand()\n",
        "print(y)\n",
        "\n",
        "print(\"\\n\")\n",
        "# random choice\n",
        "z = random.choice([3, 4,5, 7, 9], size=(3, 5))\n",
        "print(z)\n",
        "\n"
      ],
      "metadata": {
        "id": "_cYMY3d7PhSD"
      },
      "execution_count": null,
      "outputs": []
    },
    {
      "cell_type": "code",
      "source": [
        "# generate normal distribution\n",
        "print(\"normal distribution\")\n",
        "n = random.normal(size=20)\n",
        "print(n)\n",
        "\n",
        "print(\"\\n\")\n",
        "# set mean and std \n",
        "print(\"new normal distribution\")\n",
        "x = random.normal(loc = 4, scale = 2,size = 20)\n",
        "print(x)\n",
        "\n",
        "print(\"\\n\")\n",
        "# generate uniform distribution\n",
        "print(\"uniform distribution\")\n",
        "x = random.uniform(size=(2, 3)) # low =, high = \n",
        "print(x)\n",
        "\n",
        "print(\"\\n\")\n",
        "# generate poisson distribution\n",
        "print(\"poisson distribution\")\n",
        "x = random.poisson(lam=2, size=10)\n",
        "print(x)\n",
        "\n",
        "print(\"\\n\")\n",
        "# generate binomial distribution\n",
        "print(\"binomial distribution\")\n",
        "x = random.binomial(n=10, p=0.5, size=10)\n",
        "print(x)\n"
      ],
      "metadata": {
        "id": "YkipPmZ22quy"
      },
      "execution_count": null,
      "outputs": []
    },
    {
      "cell_type": "code",
      "source": [
        "# visualize distribution\n",
        "import matplotlib.pyplot as plt\n",
        "import seaborn as sns\n",
        "\n",
        "# we're using seaborn which is built on matplotlib but we'll get back to visualizing distributions later\n",
        "sns.displot(n,  kind=\"kde\").set(title = \"normal distribution\")\n",
        "plt.show()"
      ],
      "metadata": {
        "id": "d7xRjZya3Xk5"
      },
      "execution_count": null,
      "outputs": []
    },
    {
      "cell_type": "markdown",
      "source": [
        "# 2. Pandas\n",
        "Pandas is a Python library used for working with data sets.\n",
        "\n",
        "It has functions for analyzing, cleaning, exploring, and manipulating data.\n",
        "\n"
      ],
      "metadata": {
        "id": "T0JOB4AeIe97"
      }
    },
    {
      "cell_type": "code",
      "source": [
        "# importing pandas library\n",
        "import pandas as pd"
      ],
      "metadata": {
        "id": "dlRsXHOKIg8X"
      },
      "execution_count": null,
      "outputs": []
    },
    {
      "cell_type": "code",
      "source": [
        "# creating a data frame using a dictionnary\n",
        "mydataset = {\n",
        "  'Name': [\"Abdellah\", \"Malik\", \"Wiam\", \"Fazila\"],\n",
        "  'Role': [\"Président\", \"VP\", \"SG\", \"SGA\"],\n",
        "  'Height': [174 , 190, 165, 170]\n",
        "}\n",
        "df = pd.DataFrame(mydataset)\n",
        "df\n",
        "# df = pd.DataFrame(mydataset, index = [\"person1\", \"person2\", \"person3\", \"person 4\"])\n",
        "# df"
      ],
      "metadata": {
        "id": "YuaiRn6NIu_q"
      },
      "execution_count": null,
      "outputs": []
    },
    {
      "cell_type": "code",
      "source": [
        "#refer to the row index:\n",
        "print(df.loc[0])\n",
        "#use a list of indexes:\n",
        "print(df.loc[[0, 1]])"
      ],
      "metadata": {
        "id": "owVYIoYfPfNq"
      },
      "execution_count": null,
      "outputs": []
    },
    {
      "cell_type": "markdown",
      "source": [
        "A Pandas Series is like a column in a table."
      ],
      "metadata": {
        "id": "tGOHCxtbNmhZ"
      }
    },
    {
      "cell_type": "code",
      "source": [
        "a = [1, 7, 2]\n",
        "myvar = pd.Series(a)\n",
        "myvar\n",
        "myvar = pd.Series(a, index = [\"x\", \"y\", \"z\"])\n",
        "print(myvar)"
      ],
      "metadata": {
        "id": "Pgd-1isRM8Yj"
      },
      "execution_count": null,
      "outputs": []
    },
    {
      "cell_type": "code",
      "source": [
        "#to show first 5 rows\n",
        "df.head()\n",
        "#to show the last row of data\n",
        "df.tail()"
      ],
      "metadata": {
        "id": "rVEKe8h8Q7g6"
      },
      "execution_count": null,
      "outputs": []
    },
    {
      "cell_type": "code",
      "source": [
        "#add a row\n",
        "df.loc[len(df)]=[\"Essaid\",\" Head of IT\",\"178\"]\n",
        "df"
      ],
      "metadata": {
        "id": "PdJGamlOZmr7"
      },
      "execution_count": null,
      "outputs": []
    },
    {
      "cell_type": "code",
      "source": [
        "# to drop a column\n",
        "df1 = df.drop(\"Height\",axis=1)\n",
        "df1"
      ],
      "metadata": {
        "id": "x9mxdnxWSfxP"
      },
      "execution_count": null,
      "outputs": []
    },
    {
      "cell_type": "code",
      "source": [
        "#data info\n",
        "df.info()"
      ],
      "metadata": {
        "id": "mBZKquq-TbfW"
      },
      "execution_count": null,
      "outputs": []
    },
    {
      "cell_type": "code",
      "source": [
        "# some useful info\n",
        "df.Height.describe()"
      ],
      "metadata": {
        "id": "zhLjywQFTmah"
      },
      "execution_count": null,
      "outputs": []
    },
    {
      "cell_type": "code",
      "source": [
        "# creating a new column\n",
        "# with list\n",
        "structure = []\n",
        "for i in range(len(df1)):\n",
        "    structure.append(\"bureau\")\n",
        "df1[\"Structure\"] = structure\n",
        "df1\n",
        "\n",
        "print(\"\\n\")\n",
        "# with np.array\n",
        "b = np.array([\"bureau\",\"IT\",\"formation\",\"comm\",\"IT\"])\n",
        "df1[\"Structure\"] = b\n",
        "df1"
      ],
      "metadata": {
        "id": "2XVY_1jGTw8F"
      },
      "execution_count": null,
      "outputs": []
    },
    {
      "cell_type": "code",
      "source": [
        "# # to read df from a file\n",
        "# df = pd.read_csv(\"file path\")\n",
        "# # to save df as csv (excel,...)\n",
        "# df.to_csv(\"nameyourfile.csv\")"
      ],
      "metadata": {
        "id": "pa-2ROJDUyBg"
      },
      "execution_count": null,
      "outputs": []
    },
    {
      "cell_type": "markdown",
      "source": [
        "# 3. Matplotlib\n",
        "Matplotlib is a low level graph plotting library in python that serves as a visualization utility, it enables creating static, animated, and interactive visualization.\n"
      ],
      "metadata": {
        "id": "vOlw0fLnWZPN"
      }
    },
    {
      "cell_type": "markdown",
      "source": [
        "### 3.1 Pyplot\n",
        "Most of the Matplotlib utilities lies under the pyplot submodule, it is a collection of functions that make matplotlib work like MATLAB. Each pyplot function makes some change to a figure: e.g., creates a figure, creates a plotting area in a figure, plots some lines in a plotting area, decorates the plot with labels, etc."
      ],
      "metadata": {
        "id": "gCp2LZC3jsaY"
      }
    },
    {
      "cell_type": "code",
      "source": [
        "# importing the submodule pyplot\n",
        "import matplotlib.pyplot as plt"
      ],
      "metadata": {
        "id": "7ZUDdw2AWckN"
      },
      "execution_count": null,
      "outputs": []
    },
    {
      "cell_type": "code",
      "source": [
        "# single plot\n",
        "xpoints = np.array([1, 2, 6, 8]) # if not specified it will retrun 1, 2, 3,...\n",
        "ypoints = np.array([3, 8, 1, 10])\n",
        "\n",
        "plt.plot(xpoints, ypoints, marker = \"*\", c=\"b\") #, marker = 'o' , color = 'r' , 'o--g'\n",
        "### Labeling\n",
        "plt.title(\"first plot\")\n",
        "plt.xlabel(\"Xpoints\")\n",
        "plt.ylabel(\"Ypoints\")\n",
        "### Adding a grid\n",
        "plt.grid(axis = 'y') # axis = 'x','y'\n",
        "plt.show()"
      ],
      "metadata": {
        "id": "VdFj_lntf5SI"
      },
      "execution_count": null,
      "outputs": []
    },
    {
      "cell_type": "code",
      "source": [
        "# Multiple plot\n",
        "x1 = np.array([0, 1, 2, 3])\n",
        "y1 = np.array([3, 8, 1, 10])\n",
        "x2 = np.array([0, 1, 2, 3])\n",
        "y2 = np.array([6, 2, 7, 11])\n",
        "\n",
        "plt.plot(x1, y1, x2, y2)\n",
        "plt.show()\n",
        "\n",
        "# or we can use \n",
        "plt.plot(x1, y1, 'b')\n",
        "plt.plot(x2, y2, 'k')\n",
        "plt.show()"
      ],
      "metadata": {
        "id": "Y9RUmhQig8OY"
      },
      "execution_count": null,
      "outputs": []
    },
    {
      "cell_type": "markdown",
      "source": [
        "### 3.2 Scatter plot"
      ],
      "metadata": {
        "id": "Cn9UQL7-j48Z"
      }
    },
    {
      "cell_type": "code",
      "source": [
        "x = np.array([5,7,8,7,2,17,2,9,4,11,12,9,6])\n",
        "y = np.array([99,86,87,88,111,86,103,87,94,78,77,85,86])\n",
        "\n",
        "plt.scatter(x, y)\n",
        "plt.show()\n"
      ],
      "metadata": {
        "id": "f5ORU9eLiXLY"
      },
      "execution_count": null,
      "outputs": []
    },
    {
      "cell_type": "code",
      "source": [
        "x1 = np.array([5,7,8,7,2,17,2,9,4,11,12,9,6])\n",
        "y1 = np.array([99,86,87,88,111,86,103,87,94,78,77,85,86])\n",
        "plt.scatter(x1, y1)\n",
        "plt.show()\n",
        "\n",
        "sizes = np.array([20,50,100,200,500,1000,60,90,10,300,600,800,75,100,15])\n",
        "\n",
        "x2 = np.array([2,2,8,1,15,8,12,9,7,3,11,4,7,14,12])\n",
        "y2= np.array([100,105,84,105,90,99,90,95,94,100,79,112,91,80,85])\n",
        "plt.scatter(x2, y2, color = 'r', s=sizes) #, s = sizes\n",
        "plt.show()"
      ],
      "metadata": {
        "id": "H9k1RMGTkJsK"
      },
      "execution_count": null,
      "outputs": []
    },
    {
      "cell_type": "code",
      "source": [
        "# combine random distribution with plotting with matplotlib\n",
        "print(\"The Moivre Laplace theorem (a special case for the Central Limit Theorem) says that as n increases,\\nthe binomial distribution with n trials and probability p of success gets closer and closer to a normal distribution.\\nThat is, the binomial probability of any event gets closer and closer to the normal probability of the same event.\")\n",
        "print(\"We can visualize this result by looking at the binomial distribution and increasing the size, as it increases we get the bell curve shape of the normal distrbution\")\n",
        "x = random.binomial(n=10, p=0.5, size=1000000)\n",
        "plt.hist(x)\n",
        "plt.show() "
      ],
      "metadata": {
        "id": "mTJnvinZlFCC"
      },
      "execution_count": null,
      "outputs": []
    },
    {
      "cell_type": "code",
      "source": [],
      "metadata": {
        "id": "74rcXVfnVmri"
      },
      "execution_count": null,
      "outputs": []
    }
  ]
}
